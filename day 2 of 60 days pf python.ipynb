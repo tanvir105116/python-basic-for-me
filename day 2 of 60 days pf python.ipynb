{
 "cells": [
  {
   "cell_type": "markdown",
   "id": "782d3d29",
   "metadata": {},
   "source": [
    "# a normal summation"
   ]
  },
  {
   "cell_type": "code",
   "execution_count": 1,
   "id": "33f71209",
   "metadata": {},
   "outputs": [
    {
     "data": {
      "text/plain": [
       "12"
      ]
     },
     "execution_count": 1,
     "metadata": {},
     "output_type": "execute_result"
    }
   ],
   "source": [
    "5+7"
   ]
  },
  {
   "cell_type": "markdown",
   "id": "b44e4c71",
   "metadata": {},
   "source": [
    "# someting call biograpy of a student name tanvir i one sentence"
   ]
  },
  {
   "cell_type": "code",
   "execution_count": 2,
   "id": "1dc7e1b7",
   "metadata": {},
   "outputs": [
    {
     "data": {
      "text/plain": [
       "'tanvir is a dull student'"
      ]
     },
     "execution_count": 2,
     "metadata": {},
     "output_type": "execute_result"
    }
   ],
   "source": [
    "'tanvir is a dull student'"
   ]
  },
  {
   "cell_type": "markdown",
   "id": "477bf120",
   "metadata": {},
   "source": [
    "# a use of print function which use as output function"
   ]
  },
  {
   "cell_type": "code",
   "execution_count": 1,
   "id": "d02f86a6",
   "metadata": {},
   "outputs": [
    {
     "name": "stdout",
     "output_type": "stream",
     "text": [
      "tanvir study in sylhet engineering college\n"
     ]
    }
   ],
   "source": [
    "print('tanvir study in sylhet engineering college')"
   ]
  },
  {
   "cell_type": "markdown",
   "id": "e5a3559c",
   "metadata": {},
   "source": [
    "# use of sep function"
   ]
  },
  {
   "cell_type": "code",
   "execution_count": 5,
   "id": "4758dcd3",
   "metadata": {},
   "outputs": [
    {
     "name": "stdout",
     "output_type": "stream",
     "text": [
      "tanvir study in sylhet engineering college and his cgpa is very low\n"
     ]
    }
   ],
   "source": [
    "print('tanvir study in sylhet engineering college ' , ' his cgpa is very low' , sep='and')"
   ]
  },
  {
   "cell_type": "markdown",
   "id": "8a81cf07",
   "metadata": {},
   "source": [
    "# use of end function"
   ]
  },
  {
   "cell_type": "code",
   "execution_count": 6,
   "id": "f2ab77a3",
   "metadata": {},
   "outputs": [
    {
     "name": "stdout",
     "output_type": "stream",
     "text": [
      "tanvir study in sylhet engineering college and his cgpa is very low . "
     ]
    }
   ],
   "source": [
    "print('tanvir study in sylhet engineering college ' , ' his cgpa is very low' , sep='and' , end=' . ')"
   ]
  },
  {
   "cell_type": "markdown",
   "id": "e70dbff4",
   "metadata": {},
   "source": [
    "# use variable in print function(when we create a variable we dont use apostopis .if we use apostopies then it didnt give us desired ouput)"
   ]
  },
  {
   "cell_type": "markdown",
   "id": "ad33c40b",
   "metadata": {},
   "source": [
    "mr='tanvir is a boy'\n",
    "ms='he is 22 years old'\n",
    "print(mr)\n",
    "print(ms)"
   ]
  },
  {
   "cell_type": "markdown",
   "id": "f02484f4",
   "metadata": {},
   "source": [
    "# use case of variable"
   ]
  },
  {
   "cell_type": "code",
   "execution_count": 16,
   "id": "bd2e4ff1",
   "metadata": {},
   "outputs": [
    {
     "name": "stdout",
     "output_type": "stream",
     "text": [
      "tanvir is a boy.Who study in sylhet engineering college and he is 22 years old\n"
     ]
    }
   ],
   "source": [
    "mr='tanvir is a boy'\n",
    "ms='he is 22 years old'\n",
    "print(mr + '.Who study in sylhet engineering college and ' + ms)"
   ]
  },
  {
   "cell_type": "markdown",
   "id": "40e8e21a",
   "metadata": {},
   "source": [
    "# variable address"
   ]
  },
  {
   "cell_type": "code",
   "execution_count": 18,
   "id": "1d2a4707",
   "metadata": {},
   "outputs": [
    {
     "data": {
      "text/plain": [
       "3170900251760"
      ]
     },
     "execution_count": 18,
     "metadata": {},
     "output_type": "execute_result"
    }
   ],
   "source": [
    "id(mr)\n"
   ]
  },
  {
   "cell_type": "code",
   "execution_count": 19,
   "id": "e5c62492",
   "metadata": {},
   "outputs": [
    {
     "data": {
      "text/plain": [
       "3170900267280"
      ]
     },
     "execution_count": 19,
     "metadata": {},
     "output_type": "execute_result"
    }
   ],
   "source": [
    "id(ms)"
   ]
  },
  {
   "cell_type": "markdown",
   "id": "9f2dd9e6",
   "metadata": {},
   "source": [
    "# using of multiple variable\n"
   ]
  },
  {
   "cell_type": "code",
   "execution_count": 22,
   "id": "0113a83d",
   "metadata": {},
   "outputs": [
    {
     "name": "stdout",
     "output_type": "stream",
     "text": [
      "1\n",
      "2\n",
      "3\n",
      "tanvir\n"
     ]
    }
   ],
   "source": [
    "x,y,z,name=1,2,3,'tanvir'\n",
    "print(x)\n",
    "print(y)\n",
    "print(z)\n",
    "print(name)"
   ]
  },
  {
   "cell_type": "markdown",
   "id": "69976d27",
   "metadata": {},
   "source": [
    "# using of function(global and local function)"
   ]
  },
  {
   "cell_type": "code",
   "execution_count": 2,
   "id": "3edc4eea",
   "metadata": {},
   "outputs": [
    {
     "name": "stdout",
     "output_type": "stream",
     "text": [
      "50\n"
     ]
    }
   ],
   "source": [
    "x=100 #global\n",
    "def me():\n",
    "    x=50 #local\n",
    "    print(x)\n",
    "me()  #when a local is called then the the output function always take local not global  "
   ]
  },
  {
   "cell_type": "code",
   "execution_count": 6,
   "id": "84632cac",
   "metadata": {},
   "outputs": [
    {
     "name": "stdout",
     "output_type": "stream",
     "text": [
      "50\n",
      "the global num is: 100\n"
     ]
    }
   ],
   "source": [
    "x=100 #global\n",
    "def me():\n",
    "    x=50 #local\n",
    "    print(x)\n",
    "me()\n",
    "print('the global num is:',x)\n",
    "#here the the local value use inside a function but the command in outside functon always take the global value"
   ]
  },
  {
   "cell_type": "code",
   "execution_count": 8,
   "id": "7462b880",
   "metadata": {},
   "outputs": [
    {
     "name": "stdout",
     "output_type": "stream",
     "text": [
      "50\n",
      "the global num is: 50\n"
     ]
    }
   ],
   "source": [
    "x=100 #global\n",
    "def me():\n",
    "    global x\n",
    "    x=50 #local\n",
    "    print(x)\n",
    "me()\n",
    "print('the global num is:',x)\n",
    "#here by using the global command inside a function we convert the local into global which use in every command"
   ]
  },
  {
   "cell_type": "code",
   "execution_count": null,
   "id": "46fa4ed9",
   "metadata": {},
   "outputs": [],
   "source": []
  }
 ],
 "metadata": {
  "kernelspec": {
   "display_name": "Python 3 (ipykernel)",
   "language": "python",
   "name": "python3"
  },
  "language_info": {
   "codemirror_mode": {
    "name": "ipython",
    "version": 3
   },
   "file_extension": ".py",
   "mimetype": "text/x-python",
   "name": "python",
   "nbconvert_exporter": "python",
   "pygments_lexer": "ipython3",
   "version": "3.11.5"
  }
 },
 "nbformat": 4,
 "nbformat_minor": 5
}
